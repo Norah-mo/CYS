{
  "nbformat": 4,
  "nbformat_minor": 0,
  "metadata": {
    "colab": {
      "provenance": [],
      "toc_visible": true
    },
    "kernelspec": {
      "name": "python3",
      "display_name": "Python 3"
    },
    "language_info": {
      "name": "python"
    },
    "widgets": {
      "application/vnd.jupyter.widget-state+json": {
        "49a53dab539a4005b5838fab31aaf607": {
          "model_module": "@jupyter-widgets/controls",
          "model_name": "VBoxModel",
          "model_module_version": "1.5.0",
          "state": {
            "_dom_classes": [],
            "_model_module": "@jupyter-widgets/controls",
            "_model_module_version": "1.5.0",
            "_model_name": "VBoxModel",
            "_view_count": null,
            "_view_module": "@jupyter-widgets/controls",
            "_view_module_version": "1.5.0",
            "_view_name": "VBoxView",
            "box_style": "",
            "children": [
              "IPY_MODEL_ee472b91aaf94213a5471074e08e15d1",
              "IPY_MODEL_cd070a3af1c44fa9b7d419e29987b0d5"
            ],
            "layout": "IPY_MODEL_2f072728d3ab4d9ab98542fe42057274"
          }
        },
        "ee472b91aaf94213a5471074e08e15d1": {
          "model_module": "@jupyter-widgets/controls",
          "model_name": "TextModel",
          "model_module_version": "1.5.0",
          "state": {
            "_dom_classes": [],
            "_model_module": "@jupyter-widgets/controls",
            "_model_module_version": "1.5.0",
            "_model_name": "TextModel",
            "_view_count": null,
            "_view_module": "@jupyter-widgets/controls",
            "_view_module_version": "1.5.0",
            "_view_name": "TextView",
            "continuous_update": true,
            "description": "Password:",
            "description_tooltip": null,
            "disabled": false,
            "layout": "IPY_MODEL_4843fbfbd1514b3f848dadbb85986cdf",
            "placeholder": "Enter your password here",
            "style": "IPY_MODEL_305254f78afa4e5e8df76ff87ac1cf4e",
            "value": "hdxgdejy"
          }
        },
        "cd070a3af1c44fa9b7d419e29987b0d5": {
          "model_module": "@jupyter-widgets/controls",
          "model_name": "ButtonModel",
          "model_module_version": "1.5.0",
          "state": {
            "_dom_classes": [],
            "_model_module": "@jupyter-widgets/controls",
            "_model_module_version": "1.5.0",
            "_model_name": "ButtonModel",
            "_view_count": null,
            "_view_module": "@jupyter-widgets/controls",
            "_view_module_version": "1.5.0",
            "_view_name": "ButtonView",
            "button_style": "",
            "description": "Analyze",
            "disabled": false,
            "icon": "",
            "layout": "IPY_MODEL_bd9d71ee96334d968a6ff942f7b4229d",
            "style": "IPY_MODEL_e1cf1a35b2ba4bd6949db55dc351d1c5",
            "tooltip": ""
          }
        },
        "2f072728d3ab4d9ab98542fe42057274": {
          "model_module": "@jupyter-widgets/base",
          "model_name": "LayoutModel",
          "model_module_version": "1.2.0",
          "state": {
            "_model_module": "@jupyter-widgets/base",
            "_model_module_version": "1.2.0",
            "_model_name": "LayoutModel",
            "_view_count": null,
            "_view_module": "@jupyter-widgets/base",
            "_view_module_version": "1.2.0",
            "_view_name": "LayoutView",
            "align_content": null,
            "align_items": null,
            "align_self": null,
            "border": null,
            "bottom": null,
            "display": null,
            "flex": null,
            "flex_flow": null,
            "grid_area": null,
            "grid_auto_columns": null,
            "grid_auto_flow": null,
            "grid_auto_rows": null,
            "grid_column": null,
            "grid_gap": null,
            "grid_row": null,
            "grid_template_areas": null,
            "grid_template_columns": null,
            "grid_template_rows": null,
            "height": null,
            "justify_content": null,
            "justify_items": null,
            "left": null,
            "margin": null,
            "max_height": null,
            "max_width": null,
            "min_height": null,
            "min_width": null,
            "object_fit": null,
            "object_position": null,
            "order": null,
            "overflow": null,
            "overflow_x": null,
            "overflow_y": null,
            "padding": null,
            "right": null,
            "top": null,
            "visibility": null,
            "width": null
          }
        },
        "4843fbfbd1514b3f848dadbb85986cdf": {
          "model_module": "@jupyter-widgets/base",
          "model_name": "LayoutModel",
          "model_module_version": "1.2.0",
          "state": {
            "_model_module": "@jupyter-widgets/base",
            "_model_module_version": "1.2.0",
            "_model_name": "LayoutModel",
            "_view_count": null,
            "_view_module": "@jupyter-widgets/base",
            "_view_module_version": "1.2.0",
            "_view_name": "LayoutView",
            "align_content": null,
            "align_items": null,
            "align_self": null,
            "border": null,
            "bottom": null,
            "display": null,
            "flex": null,
            "flex_flow": null,
            "grid_area": null,
            "grid_auto_columns": null,
            "grid_auto_flow": null,
            "grid_auto_rows": null,
            "grid_column": null,
            "grid_gap": null,
            "grid_row": null,
            "grid_template_areas": null,
            "grid_template_columns": null,
            "grid_template_rows": null,
            "height": null,
            "justify_content": null,
            "justify_items": null,
            "left": null,
            "margin": null,
            "max_height": null,
            "max_width": null,
            "min_height": null,
            "min_width": null,
            "object_fit": null,
            "object_position": null,
            "order": null,
            "overflow": null,
            "overflow_x": null,
            "overflow_y": null,
            "padding": null,
            "right": null,
            "top": null,
            "visibility": null,
            "width": null
          }
        },
        "305254f78afa4e5e8df76ff87ac1cf4e": {
          "model_module": "@jupyter-widgets/controls",
          "model_name": "DescriptionStyleModel",
          "model_module_version": "1.5.0",
          "state": {
            "_model_module": "@jupyter-widgets/controls",
            "_model_module_version": "1.5.0",
            "_model_name": "DescriptionStyleModel",
            "_view_count": null,
            "_view_module": "@jupyter-widgets/base",
            "_view_module_version": "1.2.0",
            "_view_name": "StyleView",
            "description_width": ""
          }
        },
        "bd9d71ee96334d968a6ff942f7b4229d": {
          "model_module": "@jupyter-widgets/base",
          "model_name": "LayoutModel",
          "model_module_version": "1.2.0",
          "state": {
            "_model_module": "@jupyter-widgets/base",
            "_model_module_version": "1.2.0",
            "_model_name": "LayoutModel",
            "_view_count": null,
            "_view_module": "@jupyter-widgets/base",
            "_view_module_version": "1.2.0",
            "_view_name": "LayoutView",
            "align_content": null,
            "align_items": null,
            "align_self": null,
            "border": null,
            "bottom": null,
            "display": null,
            "flex": null,
            "flex_flow": null,
            "grid_area": null,
            "grid_auto_columns": null,
            "grid_auto_flow": null,
            "grid_auto_rows": null,
            "grid_column": null,
            "grid_gap": null,
            "grid_row": null,
            "grid_template_areas": null,
            "grid_template_columns": null,
            "grid_template_rows": null,
            "height": null,
            "justify_content": null,
            "justify_items": null,
            "left": null,
            "margin": null,
            "max_height": null,
            "max_width": null,
            "min_height": null,
            "min_width": null,
            "object_fit": null,
            "object_position": null,
            "order": null,
            "overflow": null,
            "overflow_x": null,
            "overflow_y": null,
            "padding": null,
            "right": null,
            "top": null,
            "visibility": null,
            "width": null
          }
        },
        "e1cf1a35b2ba4bd6949db55dc351d1c5": {
          "model_module": "@jupyter-widgets/controls",
          "model_name": "ButtonStyleModel",
          "model_module_version": "1.5.0",
          "state": {
            "_model_module": "@jupyter-widgets/controls",
            "_model_module_version": "1.5.0",
            "_model_name": "ButtonStyleModel",
            "_view_count": null,
            "_view_module": "@jupyter-widgets/base",
            "_view_module_version": "1.2.0",
            "_view_name": "StyleView",
            "button_color": null,
            "font_weight": ""
          }
        }
      }
    }
  },
  "cells": [
    {
      "cell_type": "markdown",
      "source": [
        "This project aims to analyze the strength of passwords using specific criteria.\n"
      ],
      "metadata": {
        "id": "tCIP5qeSrzH4"
      }
    },
    {
      "cell_type": "code",
      "source": [
        "import re\n",
        "from ipywidgets import widgets, VBox, interact\n",
        "\n",
        "# List of common passwords\n",
        "common_passwords = [\"123456\", \"password\", \"123456789\", \"qwerty\", \"12345678\"]\n",
        "\n",
        "# Password strength checking function\n",
        "def check_password_strength(password):\n",
        "    # Check for common passwords\n",
        "    if password in common_passwords:\n",
        "        print(\"\\n⚠️ This is a very common password. Please avoid using it!\")\n",
        "        return\n",
        "\n",
        "    # Password strength criteria\n",
        "    length_criteria = len(password) >= 8\n",
        "    upper_criteria = bool(re.search(r'[A-Z]', password))\n",
        "    lower_criteria = bool(re.search(r'[a-z]', password))\n",
        "    digit_criteria = bool(re.search(r'\\d', password))\n",
        "    special_criteria = bool(re.search(r'[!@#$%^&*(),.?\":{}|<>]', password))\n",
        "\n",
        "    # Calculate strength\n",
        "    score = sum([length_criteria, upper_criteria, lower_criteria, digit_criteria, special_criteria])\n",
        "    strength = {1: \"Weak\", 2: \"Moderate\", 3: \"Good\", 4: \"Strong\", 5: \"Very Strong\"}\n",
        "    percentage = (score / 5) * 100  # Strength percentage\n",
        "\n",
        "    # Display results\n",
        "    print(f\"\\n{'-'*30}\")\n",
        "    print(f\"🔒 Password Strength: {strength.get(score, 'Very Weak')}\")\n",
        "    print(f\"📊 Password Strength Percentage: {percentage:.2f}%\")\n",
        "    print(f\"{'-'*30}\")\n",
        "\n",
        "    # Provide recommendations\n",
        "    print(\"\\n📌 Recommendations to improve your password:\")\n",
        "    if not length_criteria:\n",
        "        print(\"- Make your password longer than 8 characters.\")\n",
        "    if not upper_criteria:\n",
        "        print(\"- Use uppercase letters (e.g., A, B, C).\")\n",
        "    if not lower_criteria:\n",
        "        print(\"- Use lowercase letters (e.g., a, b, c).\")\n",
        "    if not digit_criteria:\n",
        "        print(\"- Add numbers (e.g., 1, 2, 3).\")\n",
        "    if not special_criteria:\n",
        "        print(\"- Add special characters (e.g., !, @, #).\")\n",
        "\n",
        "# Interactive widget function\n",
        "def analyze_password(button):\n",
        "    password = password_input.value\n",
        "    check_password_strength(password)\n",
        "\n",
        "# Setup user interface\n",
        "password_input = widgets.Text(\n",
        "    description=\"Password:\",\n",
        "    placeholder=\"Enter your password here\"\n",
        ")\n",
        "\n",
        "analyze_button = widgets.Button(description=\"Analyze\")\n",
        "analyze_button.on_click(analyze_password)\n",
        "\n",
        "# Display the UI\n",
        "display(VBox([password_input, analyze_button]))\n",
        "\n",
        "\n",
        "\n",
        "def analyze_password(button):\n",
        "    password = password_input.value\n",
        "    check_password_strength(password)\n"
      ],
      "metadata": {
        "colab": {
          "base_uri": "https://localhost:8080/",
          "height": 255,
          "referenced_widgets": [
            "49a53dab539a4005b5838fab31aaf607",
            "ee472b91aaf94213a5471074e08e15d1",
            "cd070a3af1c44fa9b7d419e29987b0d5",
            "2f072728d3ab4d9ab98542fe42057274",
            "4843fbfbd1514b3f848dadbb85986cdf",
            "305254f78afa4e5e8df76ff87ac1cf4e",
            "bd9d71ee96334d968a6ff942f7b4229d",
            "e1cf1a35b2ba4bd6949db55dc351d1c5"
          ]
        },
        "id": "LtVayc2TqggU",
        "outputId": "1537a9c9-1246-4892-ac06-faf405cfe0d0"
      },
      "execution_count": 9,
      "outputs": [
        {
          "output_type": "display_data",
          "data": {
            "text/plain": [
              "VBox(children=(Text(value='', description='Password:', placeholder='Enter your password here'), Button(descrip…"
            ],
            "application/vnd.jupyter.widget-view+json": {
              "version_major": 2,
              "version_minor": 0,
              "model_id": "49a53dab539a4005b5838fab31aaf607"
            }
          },
          "metadata": {}
        },
        {
          "output_type": "stream",
          "name": "stdout",
          "text": [
            "\n",
            "------------------------------\n",
            "🔒 Password Strength: Moderate\n",
            "📊 Password Strength Percentage: 40.00%\n",
            "------------------------------\n",
            "\n",
            "📌 Recommendations to improve your password:\n",
            "- Use uppercase letters (e.g., A, B, C).\n",
            "- Add numbers (e.g., 1, 2, 3).\n",
            "- Add special characters (e.g., !, @, #).\n"
          ]
        }
      ]
    },
    {
      "cell_type": "markdown",
      "source": [],
      "metadata": {
        "id": "C9F5NrFKrxsV"
      }
    }
  ]
}